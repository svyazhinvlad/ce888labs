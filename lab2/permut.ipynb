{
 "cells": [
  {
   "cell_type": "code",
   "execution_count": 2,
   "metadata": {
    "collapsed": false
   },
   "outputs": [],
   "source": [
    "import matplotlib\n",
    "matplotlib.use('Agg')\n",
    "import pandas as pd\n",
    "import random\n",
    "import matplotlib.pyplot as plt\n",
    "import seaborn as sns\n",
    "import numpy as np \n",
    "import numpy.random as npr\n",
    "\n",
    "\n",
    "\n",
    "\n",
    "\n",
    "\t"
   ]
  },
  {
   "cell_type": "code",
   "execution_count": 3,
   "metadata": {
    "collapsed": true
   },
   "outputs": [],
   "source": [
    "def permutation_resampling(num_samples, case, control):\n",
    "    \"\"\"Returns p-value that statistic for case is different\n",
    "    from statistc for control.\"\"\"\n",
    "\n",
    "    observed_diff = abs(np.mean(case) - np.mean(control))\n",
    "    num_case = len(case)\n",
    "\n",
    "    combined = np.concatenate([case, control])\n",
    "    diffs = []\n",
    "    for i in range(num_samples):\n",
    "        xs = npr.permutation(combined)\n",
    "        diff = np.mean(xs[:num_case]) - np.mean(xs[num_case:])\n",
    "        diffs.append(diff)\n",
    "\n",
    "    pval = (np.sum(diffs > observed_diff))/float(num_samples)\n",
    "    return pval"
   ]
  },
  {
   "cell_type": "code",
   "execution_count": null,
   "metadata": {
    "collapsed": true
   },
   "outputs": [],
   "source": [
    "# def permutation_resampling(iterations, new, old):\n",
    "# \t#data =  pd.concat([old,new], ignore_index = True).values\n",
    "# \tdata = np.concatenate([new,old])\n",
    "# \tprint data.shape\n",
    "# \t#samples  = np.random.choice(data,replace = True, size = [iterations, len(data)])\n",
    "\n",
    "# \tsamples = []\n",
    "\n",
    "# \tfor i in range(iterations):\n",
    "# \t\ts = np.random.permutation(data)\n",
    "# \t\tsamples.append(s)\n",
    "\n",
    "\n",
    "# \tdata_mean = (new.mean() - old.mean())\n",
    "\t\n",
    "# \tvals = []\n",
    "# \tfor sample in samples:\n",
    "# \t\tsample_new, sample_old = sample[:len(new)], sample[len(new):] \n",
    "\t\n",
    "# \t\tsta = (sample_new.mean() - sample_old.mean() )\n",
    "\n",
    "# \t\tif (sta > data_mean):\n",
    "# \t\t\thigher = 1.0\n",
    "# \t\telse:\n",
    "# \t\t\thigher = 0.0\n",
    "# \t\tvals.append(higher)\n",
    "# \tb = np.array(vals)\n",
    "# \t#print b.mean()\n",
    "# \treturn b.mean()\n",
    "\t\n",
    "\n",
    "\n",
    "\n",
    "\n",
    "\n",
    "\t\n",
    "\n"
   ]
  },
  {
   "cell_type": "code",
   "execution_count": null,
   "metadata": {
    "collapsed": true
   },
   "outputs": [],
   "source": [
    "if __name__ == \"__main__\":\n",
    "\tdf = pd.read_csv('./vehicles.csv')\n",
    "\t#print df\n",
    "\tnew =  df[df.columns[0]].dropna().values\n",
    "\told =  df[df.columns[1]].dropna().values\n",
    "\t\n",
    "\t\n",
    "\t#new = np.array([100.0,102]*5)\n",
    "\t#old = np.array([100.0,99]*20)\n",
    "\t# old = np.array([0,0,0,0,0,0,1,0,0,1,0])\n",
    "\t# new = np.array([1,0,0,1,1,1,0,0,0,1,0])\n",
    "\n",
    "\told = np.array([0,1,1,1,0,1,1,0,0,1,0])\n",
    "\tnew = np.array([0,1,1,0,1,1,0,1,1,1,0,0,1,1,1,1,1,1,1])\n",
    "\n",
    "\n",
    "\tprint old.mean(), new.mean(), len(old), len(new),  new.mean() - old.mean()\n",
    "\t#exit()\n",
    "\tboots = []\n",
    "\tfor i in range(500,20000,100):\n",
    "\t\tboot = permutation_resampling(i, new, old)\n",
    "\t\tprint i,boot\n",
    "\t\tboots.append([i,boot])\n",
    "\n",
    "\n",
    "\tdf_boot = pd.DataFrame(boots,  columns=['Boostrap iterations','p-value'])\n",
    "\tsns_plot = sns.lmplot(df_boot.columns[0],df_boot.columns[1], data=df_boot, fit_reg=False)\n",
    "\n",
    "\n",
    "\tsns_plot.axes[0,0].set_xlim(0,)\n",
    "\tsns_plot.savefig(\"permutations.png\",bbox_inches='tight')\n",
    "\tsns_plot.savefig(\"permutations.pdf\",bbox_inches='tight')\n",
    "\n",
    "\t\n",
    "\t\n",
    "\t\n",
    "\t#print (\"Mean: %f\")%(np.mean(data))\n",
    "\t#print (\"Var: %f\")%(np.var(data))"
   ]
  }
 ],
 "metadata": {
  "kernelspec": {
   "display_name": "Python 2",
   "language": "python",
   "name": "python2"
  },
  "language_info": {
   "codemirror_mode": {
    "name": "ipython",
    "version": 2
   },
   "file_extension": ".py",
   "mimetype": "text/x-python",
   "name": "python",
   "nbconvert_exporter": "python",
   "pygments_lexer": "ipython2",
   "version": "2.7.12"
  }
 },
 "nbformat": 4,
 "nbformat_minor": 2
}
