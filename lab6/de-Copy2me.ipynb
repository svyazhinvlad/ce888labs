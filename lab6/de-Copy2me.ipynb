{
 "cells": [
  {
   "cell_type": "code",
   "execution_count": 2,
   "metadata": {
    "collapsed": false
   },
   "outputs": [],
   "source": [
    "import pandas\n",
    "import numpy as np\n",
    "import pandas as pd\n",
    "#from __future__ import print_function\n",
    "from sklearn.datasets import make_blobs\n",
    "from sklearn.cluster import KMeans\n",
    "from sklearn.metrics import silhouette_score\n",
    "import matplotlib.pyplot as plt\n",
    "import matplotlib.cm as cm\n",
    "%matplotlib inline  \n",
    "import seaborn as sns"
   ]
  },
  {
   "cell_type": "code",
   "execution_count": 3,
   "metadata": {
    "collapsed": false
   },
   "outputs": [],
   "source": [
    "\n",
    "df = pd.read_csv(\"hUSCensus1990raw50K.csv.bz2\",compression = \"bz2\")\n",
    "\n"
   ]
  },
  {
   "cell_type": "code",
   "execution_count": 4,
   "metadata": {
    "collapsed": false
   },
   "outputs": [
    {
     "data": {
      "text/html": [
       "<div>\n",
       "<table border=\"1\" class=\"dataframe\">\n",
       "  <thead>\n",
       "    <tr style=\"text-align: right;\">\n",
       "      <th></th>\n",
       "      <th>Unnamed: 0</th>\n",
       "      <th>AAGE</th>\n",
       "      <th>AANCSTR1</th>\n",
       "      <th>AANCSTR2</th>\n",
       "      <th>AAUGMENT</th>\n",
       "      <th>ABIRTHPL</th>\n",
       "      <th>ACITIZEN</th>\n",
       "      <th>ACLASS</th>\n",
       "      <th>ADEPART</th>\n",
       "      <th>ADISABL1</th>\n",
       "      <th>...</th>\n",
       "      <th>TMPABSNT</th>\n",
       "      <th>TRAVTIME</th>\n",
       "      <th>VIETNAM</th>\n",
       "      <th>WEEK89</th>\n",
       "      <th>WORK89</th>\n",
       "      <th>WORKLWK</th>\n",
       "      <th>WWII</th>\n",
       "      <th>YEARSCH</th>\n",
       "      <th>YEARWRK</th>\n",
       "      <th>YRSSERV</th>\n",
       "    </tr>\n",
       "  </thead>\n",
       "  <tbody>\n",
       "    <tr>\n",
       "      <th>0</th>\n",
       "      <td>0</td>\n",
       "      <td>0</td>\n",
       "      <td>0</td>\n",
       "      <td>0</td>\n",
       "      <td>0</td>\n",
       "      <td>0</td>\n",
       "      <td>0</td>\n",
       "      <td>0</td>\n",
       "      <td>0</td>\n",
       "      <td>0</td>\n",
       "      <td>...</td>\n",
       "      <td>3</td>\n",
       "      <td>0</td>\n",
       "      <td>0</td>\n",
       "      <td>52</td>\n",
       "      <td>1</td>\n",
       "      <td>2</td>\n",
       "      <td>0</td>\n",
       "      <td>11</td>\n",
       "      <td>1</td>\n",
       "      <td>0</td>\n",
       "    </tr>\n",
       "    <tr>\n",
       "      <th>1</th>\n",
       "      <td>1</td>\n",
       "      <td>0</td>\n",
       "      <td>0</td>\n",
       "      <td>0</td>\n",
       "      <td>0</td>\n",
       "      <td>0</td>\n",
       "      <td>0</td>\n",
       "      <td>0</td>\n",
       "      <td>0</td>\n",
       "      <td>0</td>\n",
       "      <td>...</td>\n",
       "      <td>0</td>\n",
       "      <td>0</td>\n",
       "      <td>0</td>\n",
       "      <td>0</td>\n",
       "      <td>0</td>\n",
       "      <td>0</td>\n",
       "      <td>0</td>\n",
       "      <td>5</td>\n",
       "      <td>0</td>\n",
       "      <td>0</td>\n",
       "    </tr>\n",
       "    <tr>\n",
       "      <th>2</th>\n",
       "      <td>2</td>\n",
       "      <td>0</td>\n",
       "      <td>0</td>\n",
       "      <td>0</td>\n",
       "      <td>0</td>\n",
       "      <td>0</td>\n",
       "      <td>0</td>\n",
       "      <td>0</td>\n",
       "      <td>0</td>\n",
       "      <td>0</td>\n",
       "      <td>...</td>\n",
       "      <td>3</td>\n",
       "      <td>0</td>\n",
       "      <td>0</td>\n",
       "      <td>0</td>\n",
       "      <td>2</td>\n",
       "      <td>2</td>\n",
       "      <td>0</td>\n",
       "      <td>9</td>\n",
       "      <td>6</td>\n",
       "      <td>0</td>\n",
       "    </tr>\n",
       "    <tr>\n",
       "      <th>3</th>\n",
       "      <td>3</td>\n",
       "      <td>0</td>\n",
       "      <td>0</td>\n",
       "      <td>0</td>\n",
       "      <td>0</td>\n",
       "      <td>1</td>\n",
       "      <td>0</td>\n",
       "      <td>0</td>\n",
       "      <td>1</td>\n",
       "      <td>0</td>\n",
       "      <td>...</td>\n",
       "      <td>0</td>\n",
       "      <td>10</td>\n",
       "      <td>0</td>\n",
       "      <td>24</td>\n",
       "      <td>1</td>\n",
       "      <td>1</td>\n",
       "      <td>0</td>\n",
       "      <td>8</td>\n",
       "      <td>1</td>\n",
       "      <td>0</td>\n",
       "    </tr>\n",
       "    <tr>\n",
       "      <th>4</th>\n",
       "      <td>4</td>\n",
       "      <td>0</td>\n",
       "      <td>0</td>\n",
       "      <td>0</td>\n",
       "      <td>0</td>\n",
       "      <td>0</td>\n",
       "      <td>0</td>\n",
       "      <td>0</td>\n",
       "      <td>0</td>\n",
       "      <td>0</td>\n",
       "      <td>...</td>\n",
       "      <td>3</td>\n",
       "      <td>0</td>\n",
       "      <td>0</td>\n",
       "      <td>0</td>\n",
       "      <td>2</td>\n",
       "      <td>2</td>\n",
       "      <td>0</td>\n",
       "      <td>11</td>\n",
       "      <td>4</td>\n",
       "      <td>0</td>\n",
       "    </tr>\n",
       "  </tbody>\n",
       "</table>\n",
       "<p>5 rows × 126 columns</p>\n",
       "</div>"
      ],
      "text/plain": [
       "   Unnamed: 0  AAGE  AANCSTR1  AANCSTR2  AAUGMENT  ABIRTHPL  ACITIZEN  ACLASS  \\\n",
       "0           0     0         0         0         0         0         0       0   \n",
       "1           1     0         0         0         0         0         0       0   \n",
       "2           2     0         0         0         0         0         0       0   \n",
       "3           3     0         0         0         0         1         0       0   \n",
       "4           4     0         0         0         0         0         0       0   \n",
       "\n",
       "   ADEPART  ADISABL1   ...     TMPABSNT  TRAVTIME  VIETNAM  WEEK89  WORK89  \\\n",
       "0        0         0   ...            3         0        0      52       1   \n",
       "1        0         0   ...            0         0        0       0       0   \n",
       "2        0         0   ...            3         0        0       0       2   \n",
       "3        1         0   ...            0        10        0      24       1   \n",
       "4        0         0   ...            3         0        0       0       2   \n",
       "\n",
       "   WORKLWK  WWII  YEARSCH  YEARWRK  YRSSERV  \n",
       "0        2     0       11        1        0  \n",
       "1        0     0        5        0        0  \n",
       "2        2     0        9        6        0  \n",
       "3        1     0        8        1        0  \n",
       "4        2     0       11        4        0  \n",
       "\n",
       "[5 rows x 126 columns]"
      ]
     },
     "execution_count": 4,
     "metadata": {},
     "output_type": "execute_result"
    }
   ],
   "source": [
    "df.describe()\n",
    "df.head()"
   ]
  },
  {
   "cell_type": "code",
   "execution_count": 5,
   "metadata": {
    "collapsed": false
   },
   "outputs": [],
   "source": [
    "df_demo = pd.DataFrame()\n",
    "df_demo[\"AGE\"] = df[[\"AGE\"]].copy()\n",
    "df_demo[\"INCOME\"] = df[[\"INCOME\" + str(i) for i in range(1,8)]].sum(axis = 1)\n",
    "df_demo[\"YEARSCH\"] = df[[\"YEARSCH\"]].copy()\n",
    "df_demo[\"ENGLISH\"] = df[[\"ENGLISH\"]].copy()\n",
    "df_demo[\"FERTIL\"] = df[[\"FERTIL\"]].copy()\n",
    "df_demo[\"YRSSERV\"] = df[[\"YRSSERV\"]].copy()\n",
    "df_demo = pd.get_dummies(df_demo, columns = [\"ENGLISH\", \"FERTIL\" ])"
   ]
  },
  {
   "cell_type": "code",
   "execution_count": null,
   "metadata": {
    "collapsed": false
   },
   "outputs": [],
   "source": []
  },
  {
   "cell_type": "code",
   "execution_count": null,
   "metadata": {
    "collapsed": false
   },
   "outputs": [],
   "source": [
    "data=[]"
   ]
  },
  {
   "cell_type": "code",
   "execution_count": null,
   "metadata": {
    "collapsed": false
   },
   "outputs": [],
   "source": [
    "X = df_demo.values[np.random.choice(df_demo.values.shape[0], 10000)]\n",
    "\n",
    "from sklearn import metrics\n",
    "from sklearn.preprocessing import StandardScaler\n",
    "sc = StandardScaler()\n",
    "X_db = sc.fit_transform(X)\n",
    "\n",
    "for j in range(0,5):\n",
    "    for n_clusters in range(2,11):\n",
    "        labels = KMeans(n_clusters = n_clusters).fit_predict(X_db)\n",
    "\n",
    "        print('Number of clusters: %d' % n_clusters)\n",
    "        print(\"Silhouette Coefficient: %0.3f\"\n",
    "              % metrics.silhouette_score(X_db, labels))\n",
    "        unique_labels = set(labels)\n",
    "        colors = plt.cm.Spectral(np.linspace(0, 1, len(unique_labels)))\n",
    "        for k, col in zip(unique_labels, colors):\n",
    "            if k == -1:\n",
    "                # Black used for noise.\n",
    "                col = 'k'\n",
    "            class_member_mask = (labels == k)\n",
    "            xy = X[class_member_mask]\n",
    "            plt.scatter(xy[:, 0], xy[:, 1],  c = col, edgecolor='k')\n",
    "            xy = X[class_member_mask]\n",
    "            plt.scatter(xy[:, 0], xy[:, 1],  c = col, edgecolor='k')\n",
    "        data.append([n_clusters,metrics.silhouette_score(X_db, labels)])\n",
    "        \n",
    "    #   plt.show()"
   ]
  },
  {
   "cell_type": "code",
   "execution_count": null,
   "metadata": {
    "collapsed": false
   },
   "outputs": [],
   "source": [
    "dt=pd.DataFrame(data)"
   ]
  },
  {
   "cell_type": "code",
   "execution_count": null,
   "metadata": {
    "collapsed": false
   },
   "outputs": [],
   "source": [
    "dt.columns=(\"number\",\"coeffi\")"
   ]
  },
  {
   "cell_type": "code",
   "execution_count": null,
   "metadata": {
    "collapsed": false
   },
   "outputs": [],
   "source": [
    "\n",
    "ax = sns.pointplot(x=\"number\", y=\"coeffi\", data=dt,join=False)"
   ]
  },
  {
   "cell_type": "code",
   "execution_count": null,
   "metadata": {
    "collapsed": false
   },
   "outputs": [],
   "source": [
    "data1=[]"
   ]
  },
  {
   "cell_type": "code",
   "execution_count": null,
   "metadata": {
    "collapsed": false
   },
   "outputs": [
    {
     "name": "stderr",
     "output_type": "stream",
     "text": [
      "/usr/local/lib/python2.7/dist-packages/sklearn/utils/validation.py:429: DataConversionWarning: Data with input dtype int64 was converted to float64 by StandardScaler.\n",
      "  warnings.warn(msg, _DataConversionWarning)\n"
     ]
    },
    {
     "name": "stdout",
     "output_type": "stream",
     "text": [
      "Number of clusters: 2\n",
      "Silhouette Coefficient: 0.217\n",
      "Number of clusters: 3\n",
      "Silhouette Coefficient: 0.241\n",
      "Number of clusters: 4\n",
      "Silhouette Coefficient: 0.243\n",
      "Number of clusters: 5\n",
      "Silhouette Coefficient: 0.245\n",
      "Number of clusters: 6\n",
      "Silhouette Coefficient: 0.259\n",
      "Number of clusters: 7\n",
      "Silhouette Coefficient: 0.270\n",
      "Number of clusters: 8\n",
      "Silhouette Coefficient: 0.274\n",
      "Number of clusters: 9\n",
      "Silhouette Coefficient: 0.289\n",
      "Number of clusters: 10\n",
      "Silhouette Coefficient: 0.312\n",
      "Number of clusters: 2\n",
      "Silhouette Coefficient: 0.217\n",
      "Number of clusters: 3\n",
      "Silhouette Coefficient: 0.241\n",
      "Number of clusters: 4\n",
      "Silhouette Coefficient: 0.243\n",
      "Number of clusters: 5\n",
      "Silhouette Coefficient: 0.245\n",
      "Number of clusters: 6\n",
      "Silhouette Coefficient: 0.259\n",
      "Number of clusters: 7\n",
      "Silhouette Coefficient: 0.270\n",
      "Number of clusters: 8\n",
      "Silhouette Coefficient: 0.274\n",
      "Number of clusters: 9\n",
      "Silhouette Coefficient: 0.289\n",
      "Number of clusters: 10\n",
      "Silhouette Coefficient: 0.312\n",
      "Number of clusters: 2\n",
      "Silhouette Coefficient: 0.217\n",
      "Number of clusters: 3\n",
      "Silhouette Coefficient: 0.241\n",
      "Number of clusters: 4\n",
      "Silhouette Coefficient: 0.243\n"
     ]
    }
   ],
   "source": [
    "X = df_demo.values[np.random.choice(df_demo.values.shape[0], 10000)]\n",
    "\n",
    "from sklearn import metrics\n",
    "from sklearn.preprocessing import StandardScaler\n",
    "from sklearn.cluster import AgglomerativeClustering\n",
    "sc = StandardScaler()\n",
    "X_db = sc.fit_transform(X)\n",
    "\n",
    "for j in range(0,5):\n",
    "    for n_clusters in range(2,11):\n",
    "        \n",
    "        model = AgglomerativeClustering(n_clusters=n_clusters,\n",
    "                                linkage=\"average\", affinity=\"cosine\")\n",
    "        \n",
    "        labels = model.fit_predict(X_db)\n",
    "\n",
    "        print('Number of clusters: %d' % n_clusters)\n",
    "        print(\"Silhouette Coefficient: %0.3f\"\n",
    "              % metrics.silhouette_score(X_db, labels))\n",
    "        unique_labels = set(labels)\n",
    "        colors = plt.cm.Spectral(np.linspace(0, 1, len(unique_labels)))\n",
    "        for k, col in zip(unique_labels, colors):\n",
    "            if k == -1:\n",
    "                # Black used for noise.\n",
    "                col = 'k'\n",
    "            class_member_mask = (labels == k)\n",
    "            xy = X[class_member_mask]\n",
    "            plt.scatter(xy[:, 0], xy[:, 1],  c = col, edgecolor='k')\n",
    "            xy = X[class_member_mask]\n",
    "            plt.scatter(xy[:, 0], xy[:, 1],  c = col, edgecolor='k')\n",
    "        data1.append([n_clusters,metrics.silhouette_score(X_db, labels)])\n",
    "        \n",
    "    #   plt.show()"
   ]
  },
  {
   "cell_type": "code",
   "execution_count": null,
   "metadata": {
    "collapsed": false
   },
   "outputs": [],
   "source": [
    "dt1=pd.DataFrame(data1)\n",
    "dt1.columns=(\"number\",\"coeffi\")\n",
    "ax = sns.pointplot(x=\"number\", y=\"coeffi\", data=dt1,join=False)"
   ]
  },
  {
   "cell_type": "code",
   "execution_count": null,
   "metadata": {
    "collapsed": true
   },
   "outputs": [],
   "source": []
  }
 ],
 "metadata": {
  "kernelspec": {
   "display_name": "Python 2",
   "language": "python",
   "name": "python2"
  },
  "language_info": {
   "codemirror_mode": {
    "name": "ipython",
    "version": 2
   },
   "file_extension": ".py",
   "mimetype": "text/x-python",
   "name": "python",
   "nbconvert_exporter": "python",
   "pygments_lexer": "ipython2",
   "version": "2.7.12"
  }
 },
 "nbformat": 4,
 "nbformat_minor": 0
}
